{
  "nbformat": 4,
  "nbformat_minor": 0,
  "metadata": {
    "colab": {
      "provenance": []
    },
    "kernelspec": {
      "name": "python3",
      "display_name": "Python 3"
    },
    "language_info": {
      "name": "python"
    }
  },
  "cells": [
    {
      "cell_type": "code",
      "source": [
        "import pandas as pd\n",
        "import numpy as np\n",
        "from sklearn.preprocessing import LabelEncoder\n",
        "from sklearn.model_selection import train_test_split, GridSearchCV\n",
        "from sklearn.metrics import classification_report, accuracy_score\n",
        "from xgboost import XGBClassifier"
      ],
      "metadata": {
        "id": "aviqFeeHXINr"
      },
      "execution_count": null,
      "outputs": []
    },
    {
      "cell_type": "code",
      "execution_count": null,
      "metadata": {
        "id": "G57MVQeQVOCG"
      },
      "outputs": [],
      "source": [
        "class LoanPredictionModel:\n",
        "    def __init__(self, file_path):\n",
        "        self.file_path = file_path\n",
        "        self.data = None\n",
        "        self.dataencoded = None\n",
        "        self.X_train = self.X_test = self.y_train = self.y_test = None\n",
        "        self.xgb_model = None\n",
        "        self.catcols = ['person_gender', 'person_education', 'person_home_ownership',\n",
        "                        'loan_intent', 'previous_loan_defaults_on_file']\n",
        "        self.numcols = ['person_age', 'person_income', 'person_emp_exp', 'loan_amnt', 'loan_int_rate',\n",
        "                        'loan_percent_income', 'cb_person_cred_hist_length', 'credit_score']\n",
        "\n",
        "    def load_data(self):\n",
        "        print(\"Loading data...\")\n",
        "        self.data = pd.read_csv(self.file_path)\n",
        "        print(\"Missing value:\\n\", self.data.isnull().sum())\n",
        "\n",
        "    def preprocess_data(self):\n",
        "        print(\"Handling missing values...\")\n",
        "        self.data['person_income'].fillna(self.data['person_income'].mean(), inplace=True)\n",
        "        self.dataencoded = self.data.copy()\n",
        "\n",
        "        print(\"Encoding categorical columns...\")\n",
        "        le = LabelEncoder()\n",
        "        for col in self.catcols:\n",
        "            self.dataencoded[col] = le.fit_transform(self.dataencoded[col])\n",
        "\n",
        "        print(\"Detecting and capping outliers...\")\n",
        "        for col in self.numcols:\n",
        "            Q1 = self.dataencoded[col].quantile(0.25)\n",
        "            Q3 = self.dataencoded[col].quantile(0.75)\n",
        "            IQR = Q3 - Q1\n",
        "            lower_bound = Q1 - 1.5 * IQR\n",
        "            upper_bound = Q3 + 1.5 * IQR\n",
        "            self.dataencoded[col] = np.where(\n",
        "                self.dataencoded[col] < lower_bound, lower_bound,\n",
        "                np.where(self.dataencoded[col] > upper_bound, upper_bound, self.dataencoded[col])\n",
        "            )\n",
        "\n",
        "        print(\"Removing gender anomalies...\")\n",
        "        self.dataencoded = self.dataencoded[self.dataencoded['person_gender'].isin([0, 1])]\n",
        "\n",
        "    def split_data(self):\n",
        "        print(\"Splitting dataset...\")\n",
        "        X = self.dataencoded.drop(columns=['loan_status'] + self.catcols)\n",
        "        y = self.dataencoded['loan_status']\n",
        "        self.X_train, self.X_test, self.y_train, self.y_test = train_test_split(\n",
        "            X, y, test_size=0.2, random_state=42\n",
        "        )\n",
        "\n",
        "    def tune_and_train_xgboost(self):\n",
        "        print(\"Tuning XGBoost model...\")\n",
        "        xgb_params = {\n",
        "            'n_estimators': [100, 200, 300],\n",
        "            'max_depth': [3, 6, 9],\n",
        "            'learning_rate': [0.01, 0.1, 0.2]\n",
        "        }\n",
        "        xgb = XGBClassifier(random_state=42)\n",
        "        xgb_grid = GridSearchCV(xgb, xgb_params, cv=5, scoring='accuracy')\n",
        "        xgb_grid.fit(self.X_train, self.y_train)\n",
        "        self.xgb_model = xgb_grid.best_estimator_\n",
        "\n",
        "        print(\"Best Parameters:\", xgb_grid.best_params_)\n",
        "\n",
        "    def evaluate_model(self):\n",
        "        print(\"Evaluating model...\")\n",
        "        preds = self.xgb_model.predict(self.X_test)\n",
        "        acc = accuracy_score(self.y_test, preds)\n",
        "        report = classification_report(self.y_test, preds)\n",
        "        print(\"XGBoost Performance:\")\n",
        "        print(report)\n",
        "        print(f\"Accuracy: {acc}\")\n",
        "\n",
        "\n",
        "#CODE INFERENCE\n",
        "    #penjelasan dan komen agar user tahu format input datanya\n",
        "    def predict_new(self, input_data: dict):\n",
        "        \"\"\"\n",
        "        melakukan prediksi pada 1 data baru berbentuk dictionary.\n",
        "        contoh input:\n",
        "        {\n",
        "            'person_age': 35,\n",
        "            'person_income': 50000,\n",
        "            'person_emp_exp': 10,\n",
        "            'loan_amnt': 10000,\n",
        "            'loan_int_rate': 12.5,\n",
        "            'loan_percent_income': 0.2,\n",
        "            'cb_person_cred_hist_length': 4,\n",
        "            'credit_score': 700\n",
        "        }\n",
        "        \"\"\"\n",
        "        #cek apakah sudah benar\n",
        "        if self.xgb_model is None:\n",
        "            raise ValueError(\"error...\")\n",
        "\n",
        "        #utk ambil urutan & nama kolom yg benar\n",
        "        required_features = self.X_train.columns.tolist()\n",
        "        #ubah dictionary jadi dataframe\n",
        "        input_df = pd.DataFrame([input_data])[required_features]\n",
        "        #menghasilkan label prediksi\n",
        "        prediction = self.xgb_model.predict(input_df)[0]\n",
        "        #menghasilkan probabilitas\n",
        "        probability = self.xgb_model.predict_proba(input_df)[0][1]\n",
        "\n",
        "        #balikin ke dictionary agar mudah dibaca streamlit\n",
        "        return {\n",
        "            \"prediction\": int(prediction),\n",
        "            \"probability\": float(round(probability, 4))\n",
        "        }\n"
      ]
    },
    {
      "cell_type": "markdown",
      "source": [
        "➥ fungsi : untuk memprediksi status peminjaman berdasarkan input data baru dalam bentuk dictionary python."
      ],
      "metadata": {
        "id": "CHmqr8NHZ6Uh"
      }
    },
    {
      "cell_type": "code",
      "source": [
        "model = LoanPredictionModel(\"Dataset_A_loan.csv\")\n",
        "model.load_data()"
      ],
      "metadata": {
        "colab": {
          "base_uri": "https://localhost:8080/"
        },
        "id": "stZoAPY4Wruy",
        "outputId": "bdd4b102-0d1b-4837-dc73-6e2a51e5388a"
      },
      "execution_count": null,
      "outputs": [
        {
          "output_type": "stream",
          "name": "stdout",
          "text": [
            "Loading data...\n",
            "Missing value:\n",
            " person_age                           0\n",
            "person_gender                        0\n",
            "person_education                     0\n",
            "person_income                     2250\n",
            "person_emp_exp                       0\n",
            "person_home_ownership                0\n",
            "loan_amnt                            0\n",
            "loan_intent                          0\n",
            "loan_int_rate                        0\n",
            "loan_percent_income                  0\n",
            "cb_person_cred_hist_length           0\n",
            "credit_score                         0\n",
            "previous_loan_defaults_on_file       0\n",
            "loan_status                          0\n",
            "dtype: int64\n",
            "Handling missing values...\n",
            "Encoding categorical columns...\n",
            "Detecting and capping outliers...\n",
            "Removing gender anomalies...\n"
          ]
        },
        {
          "output_type": "stream",
          "name": "stderr",
          "text": [
            "<ipython-input-2-70d5bd320c8c>:27: FutureWarning: A value is trying to be set on a copy of a DataFrame or Series through chained assignment using an inplace method.\n",
            "The behavior will change in pandas 3.0. This inplace method will never work because the intermediate object on which we are setting values always behaves as a copy.\n",
            "\n",
            "For example, when doing 'df[col].method(value, inplace=True)', try using 'df.method({col: value}, inplace=True)' or df[col] = df[col].method(value) instead, to perform the operation inplace on the original object.\n",
            "\n",
            "\n",
            "  self.data['person_income'].fillna(self.data['person_income'].mean(), inplace=True)\n"
          ]
        }
      ]
    },
    {
      "cell_type": "code",
      "source": [
        "model.preprocess_data()"
      ],
      "metadata": {
        "colab": {
          "base_uri": "https://localhost:8080/"
        },
        "id": "AzLmt2B6XP8j",
        "outputId": "dc554771-d5e9-4968-fe90-938f954fe6ee"
      },
      "execution_count": null,
      "outputs": [
        {
          "output_type": "stream",
          "name": "stdout",
          "text": [
            "Handling missing values...\n",
            "Encoding categorical columns...\n",
            "Detecting and capping outliers...\n",
            "Removing gender anomalies...\n"
          ]
        },
        {
          "output_type": "stream",
          "name": "stderr",
          "text": [
            "<ipython-input-2-70d5bd320c8c>:27: FutureWarning: A value is trying to be set on a copy of a DataFrame or Series through chained assignment using an inplace method.\n",
            "The behavior will change in pandas 3.0. This inplace method will never work because the intermediate object on which we are setting values always behaves as a copy.\n",
            "\n",
            "For example, when doing 'df[col].method(value, inplace=True)', try using 'df.method({col: value}, inplace=True)' or df[col] = df[col].method(value) instead, to perform the operation inplace on the original object.\n",
            "\n",
            "\n",
            "  self.data['person_income'].fillna(self.data['person_income'].mean(), inplace=True)\n"
          ]
        }
      ]
    },
    {
      "cell_type": "code",
      "source": [
        "model.split_data()"
      ],
      "metadata": {
        "colab": {
          "base_uri": "https://localhost:8080/"
        },
        "id": "aQw-M63wW4Ug",
        "outputId": "b0a7f4d7-e0b0-4762-ec22-42a956c21e0d"
      },
      "execution_count": null,
      "outputs": [
        {
          "output_type": "stream",
          "name": "stdout",
          "text": [
            "Splitting dataset...\n"
          ]
        }
      ]
    },
    {
      "cell_type": "code",
      "source": [
        "model.tune_and_train_xgboost()"
      ],
      "metadata": {
        "colab": {
          "base_uri": "https://localhost:8080/"
        },
        "id": "0iZHNHu1W65b",
        "outputId": "730c2ff4-219a-42aa-8536-8883ca36e908"
      },
      "execution_count": null,
      "outputs": [
        {
          "output_type": "stream",
          "name": "stdout",
          "text": [
            "Tuning XGBoost model...\n",
            "Best Parameters: {'learning_rate': 0.2, 'max_depth': 3, 'n_estimators': 300}\n"
          ]
        }
      ]
    }
  ]
}