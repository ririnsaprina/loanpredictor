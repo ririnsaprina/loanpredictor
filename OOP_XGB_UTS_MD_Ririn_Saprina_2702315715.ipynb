{
  "nbformat": 4,
  "nbformat_minor": 0,
  "metadata": {
    "colab": {
      "provenance": []
    },
    "kernelspec": {
      "name": "python3",
      "display_name": "Python 3"
    },
    "language_info": {
      "name": "python"
    }
  },
  "cells": [
    {
      "cell_type": "code",
      "source": [
        "import pandas as pd\n",
        "import numpy as np\n",
        "from sklearn.preprocessing import LabelEncoder\n",
        "from sklearn.model_selection import train_test_split, GridSearchCV\n",
        "from sklearn.metrics import classification_report, accuracy_score\n",
        "from xgboost import XGBClassifier"
      ],
      "metadata": {
        "id": "HPlmKzOGXga0"
      },
      "execution_count": null,
      "outputs": []
    },
    {
      "cell_type": "code",
      "source": [
        "class LoanPredictionModel:\n",
        "    #inisialisasi atribut dan path file\n",
        "    def __init__(self, file_path):\n",
        "        self.file_path = file_path\n",
        "        self.data = None\n",
        "        self.dataencoded = None\n",
        "        self.X_train = self.X_test = self.y_train = self.y_test = None\n",
        "        self.xgb_model = None\n",
        "        self.catcols = ['person_gender', 'person_education', 'person_home_ownership',\n",
        "                        'loan_intent', 'previous_loan_defaults_on_file']\n",
        "        self.numcols = ['person_age', 'person_income', 'person_emp_exp', 'loan_amnt', 'loan_int_rate',\n",
        "                        'loan_percent_income', 'cb_person_cred_hist_length', 'credit_score']\n",
        "\n",
        "    #load data dan cek missing value\n",
        "    def load_data(self):\n",
        "        self.data = pd.read_csv(self.file_path)\n",
        "        print(\"missing value:\\n\", self.data.isnull().sum())\n",
        "\n",
        "    #preprocessing data (handling missing value, encode, outlier)\n",
        "    def preprocess_data(self):\n",
        "        print(\"handling missing values...\")\n",
        "        self.data['person_income'].fillna(self.data['person_income'].mean(), inplace=True)\n",
        "        self.dataencoded = self.data.copy()\n",
        "\n",
        "        print(\"encoding categorical columns...\")\n",
        "        le = LabelEncoder()\n",
        "        for col in self.catcols:\n",
        "            self.dataencoded[col] = le.fit_transform(self.dataencoded[col])\n",
        "\n",
        "        print(\"detecting outliers...\")\n",
        "        for col in self.numcols:\n",
        "            Q1 = self.dataencoded[col].quantile(0.25)\n",
        "            Q3 = self.dataencoded[col].quantile(0.75)\n",
        "            IQR = Q3 - Q1\n",
        "            lower_bound = Q1 - 1.5 * IQR\n",
        "            upper_bound = Q3 + 1.5 * IQR\n",
        "            self.dataencoded[col] = np.where(\n",
        "                self.dataencoded[col] < lower_bound, lower_bound,\n",
        "                np.where(self.dataencoded[col] > upper_bound, upper_bound, self.dataencoded[col])\n",
        "            )\n",
        "\n",
        "        print(\"removing gender anomalies...\")\n",
        "        self.dataencoded = self.dataencoded[self.dataencoded['person_gender'].isin([0, 1])]\n",
        "\n",
        "    #split data train dan testing\n",
        "    def split_data(self):\n",
        "        print(\"splitting dataset...\")\n",
        "        X = self.dataencoded.drop(columns=['loan_status'] + self.catcols)\n",
        "        y = self.dataencoded['loan_status']\n",
        "        self.X_train, self.X_test, self.y_train, self.y_test = train_test_split(\n",
        "            X, y, test_size=0.2, random_state=42\n",
        "        )\n",
        "\n",
        "    #hyperparameter tuning dan training model xgb\n",
        "    def tune_and_train_xgboost(self):\n",
        "        print(\"tuning XGBoost model...\")\n",
        "        xgb_params = {\n",
        "            'n_estimators': [100, 200, 300],\n",
        "            'max_depth': [3, 6, 9],\n",
        "            'learning_rate': [0.01, 0.1, 0.2]\n",
        "        }\n",
        "        xgb = XGBClassifier(random_state=42)\n",
        "        xgb_grid = GridSearchCV(xgb, xgb_params, cv=5, scoring='accuracy')\n",
        "        xgb_grid.fit(self.X_train, self.y_train)\n",
        "        self.xgb_model = xgb_grid.best_estimator_\n",
        "\n",
        "        print(\"best parameters:\", xgb_grid.best_params_)\n",
        "\n",
        "    #evaluasi hasil model\n",
        "    def evaluate_model(self):\n",
        "        print(\"evaluating model...\")\n",
        "        preds = self.xgb_model.predict(self.X_test)\n",
        "        acc = accuracy_score(self.y_test, preds)\n",
        "        report = classification_report(self.y_test, preds)\n",
        "        print(\"XGBoost performance:\")\n",
        "        print(report)\n",
        "        print(f\"accuracy: {acc}\")\n"
      ],
      "metadata": {
        "id": "7C8id2mIUikY"
      },
      "execution_count": null,
      "outputs": []
    },
    {
      "cell_type": "code",
      "source": [
        "model = LoanPredictionModel(\"Dataset_A_loan.csv\")\n",
        "model.load_data()"
      ],
      "metadata": {
        "colab": {
          "base_uri": "https://localhost:8080/"
        },
        "id": "sRwjcHMsUkvF",
        "outputId": "02a19d6a-75d8-4b54-c475-700560752875"
      },
      "execution_count": null,
      "outputs": [
        {
          "output_type": "stream",
          "name": "stdout",
          "text": [
            "Loading data...\n",
            "Missing value:\n",
            " person_age                           0\n",
            "person_gender                        0\n",
            "person_education                     0\n",
            "person_income                     2250\n",
            "person_emp_exp                       0\n",
            "person_home_ownership                0\n",
            "loan_amnt                            0\n",
            "loan_intent                          0\n",
            "loan_int_rate                        0\n",
            "loan_percent_income                  0\n",
            "cb_person_cred_hist_length           0\n",
            "credit_score                         0\n",
            "previous_loan_defaults_on_file       0\n",
            "loan_status                          0\n",
            "dtype: int64\n"
          ]
        }
      ]
    },
    {
      "cell_type": "code",
      "source": [
        "model.preprocess_data()"
      ],
      "metadata": {
        "colab": {
          "base_uri": "https://localhost:8080/"
        },
        "id": "qqKgzfiVUnFb",
        "outputId": "f53fe48c-8bd1-4547-a4ae-b8557c7687cd"
      },
      "execution_count": null,
      "outputs": [
        {
          "output_type": "stream",
          "name": "stdout",
          "text": [
            "Handling missing values...\n",
            "Encoding categorical columns...\n",
            "Detecting and capping outliers...\n",
            "Removing gender anomalies...\n"
          ]
        },
        {
          "output_type": "stream",
          "name": "stderr",
          "text": [
            "<ipython-input-33-2a22c9df2363>:27: FutureWarning: A value is trying to be set on a copy of a DataFrame or Series through chained assignment using an inplace method.\n",
            "The behavior will change in pandas 3.0. This inplace method will never work because the intermediate object on which we are setting values always behaves as a copy.\n",
            "\n",
            "For example, when doing 'df[col].method(value, inplace=True)', try using 'df.method({col: value}, inplace=True)' or df[col] = df[col].method(value) instead, to perform the operation inplace on the original object.\n",
            "\n",
            "\n",
            "  self.data['person_income'].fillna(self.data['person_income'].mean(), inplace=True)\n"
          ]
        }
      ]
    },
    {
      "cell_type": "code",
      "source": [
        "model.split_data()"
      ],
      "metadata": {
        "colab": {
          "base_uri": "https://localhost:8080/"
        },
        "id": "qwUgKzqeUq2O",
        "outputId": "bac2b4ba-9d52-490d-c467-5ad67f3b5074"
      },
      "execution_count": null,
      "outputs": [
        {
          "output_type": "stream",
          "name": "stdout",
          "text": [
            "Splitting dataset...\n"
          ]
        }
      ]
    },
    {
      "cell_type": "code",
      "source": [
        "model.tune_and_train_xgboost()"
      ],
      "metadata": {
        "colab": {
          "base_uri": "https://localhost:8080/"
        },
        "id": "jszgBPFFUsY3",
        "outputId": "b263a11b-8f23-4261-f367-7a89adfbf4ed"
      },
      "execution_count": null,
      "outputs": [
        {
          "output_type": "stream",
          "name": "stdout",
          "text": [
            "Tuning XGBoost model...\n",
            "Best Parameters: {'learning_rate': 0.2, 'max_depth': 3, 'n_estimators': 300}\n"
          ]
        }
      ]
    },
    {
      "cell_type": "code",
      "source": [
        "model.evaluate_model()"
      ],
      "metadata": {
        "colab": {
          "base_uri": "https://localhost:8080/"
        },
        "id": "WqDhCI_-UvSl",
        "outputId": "6a56cf44-4608-4ca6-8070-033abcc51023"
      },
      "execution_count": null,
      "outputs": [
        {
          "output_type": "stream",
          "name": "stdout",
          "text": [
            "Evaluating model...\n",
            "XGBoost Performance:\n",
            "              precision    recall  f1-score   support\n",
            "\n",
            "           0       0.62      1.00      0.77        10\n",
            "           1       1.00      0.25      0.40         8\n",
            "\n",
            "    accuracy                           0.67        18\n",
            "   macro avg       0.81      0.62      0.58        18\n",
            "weighted avg       0.79      0.67      0.61        18\n",
            "\n",
            "Accuracy: 0.6666666666666666\n"
          ]
        }
      ]
    }
  ]
}